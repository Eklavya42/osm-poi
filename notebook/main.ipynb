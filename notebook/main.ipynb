{
 "cells": [
  {
   "cell_type": "markdown",
   "metadata": {},
   "source": [
    "## Aim:  Identify commercial centers using Points of Interest (POI) data"
   ]
  },
  {
   "cell_type": "code",
   "execution_count": 1,
   "metadata": {},
   "outputs": [],
   "source": [
    "# Importing Libraries Required\n",
    "import geopandas as gpd # for handling geojson data \n",
    "import pandas as pd\n",
    "import numpy as np\n",
    "import matplotlib.pyplot as plt\n",
    "import seaborn as sns\n",
    "from matplotlib.pyplot import figure\n",
    "%matplotlib inline\n"
   ]
  },
  {
   "cell_type": "code",
   "execution_count": 2,
   "metadata": {},
   "outputs": [],
   "source": [
    "# loading geojson file downloaded using overpass turbo query -> all amenities around Delhi (radius of 5km)\n",
    "data = gpd.read_file(\"delhi.geojson\")"
   ]
  },
  {
   "cell_type": "markdown",
   "metadata": {},
   "source": [
    "## Data Exploration And Preprocessing"
   ]
  },
  {
   "cell_type": "code",
   "execution_count": 3,
   "metadata": {},
   "outputs": [
    {
     "data": {
      "text/html": [
       "<div>\n",
       "<style scoped>\n",
       "    .dataframe tbody tr th:only-of-type {\n",
       "        vertical-align: middle;\n",
       "    }\n",
       "\n",
       "    .dataframe tbody tr th {\n",
       "        vertical-align: top;\n",
       "    }\n",
       "\n",
       "    .dataframe thead th {\n",
       "        text-align: right;\n",
       "    }\n",
       "</style>\n",
       "<table border=\"1\" class=\"dataframe\">\n",
       "  <thead>\n",
       "    <tr style=\"text-align: right;\">\n",
       "      <th></th>\n",
       "      <th>id</th>\n",
       "      <th>@id</th>\n",
       "      <th>admin_level</th>\n",
       "      <th>amenity</th>\n",
       "      <th>boundary</th>\n",
       "      <th>name</th>\n",
       "      <th>type</th>\n",
       "      <th>addr:street</th>\n",
       "      <th>building</th>\n",
       "      <th>name:de</th>\n",
       "      <th>...</th>\n",
       "      <th>dance:teaching</th>\n",
       "      <th>theatre:type</th>\n",
       "      <th>operator:type</th>\n",
       "      <th>backrest</th>\n",
       "      <th>seats</th>\n",
       "      <th>branch:type</th>\n",
       "      <th>drink:shake</th>\n",
       "      <th>addr:subdistrict</th>\n",
       "      <th>waste</th>\n",
       "      <th>geometry</th>\n",
       "    </tr>\n",
       "  </thead>\n",
       "  <tbody>\n",
       "    <tr>\n",
       "      <th>0</th>\n",
       "      <td>relation/3859752</td>\n",
       "      <td>relation/3859752</td>\n",
       "      <td>10</td>\n",
       "      <td>university</td>\n",
       "      <td>administrative</td>\n",
       "      <td>Delhi University (North Campus)</td>\n",
       "      <td>boundary</td>\n",
       "      <td>None</td>\n",
       "      <td>None</td>\n",
       "      <td>None</td>\n",
       "      <td>...</td>\n",
       "      <td>None</td>\n",
       "      <td>None</td>\n",
       "      <td>None</td>\n",
       "      <td>None</td>\n",
       "      <td>None</td>\n",
       "      <td>None</td>\n",
       "      <td>None</td>\n",
       "      <td>None</td>\n",
       "      <td>None</td>\n",
       "      <td>POLYGON ((77.22017 28.69272, 77.21966 28.69302...</td>\n",
       "    </tr>\n",
       "    <tr>\n",
       "      <th>1</th>\n",
       "      <td>relation/3926057</td>\n",
       "      <td>relation/3926057</td>\n",
       "      <td>None</td>\n",
       "      <td>place_of_worship</td>\n",
       "      <td>None</td>\n",
       "      <td>Jama Masjid</td>\n",
       "      <td>multipolygon</td>\n",
       "      <td>Meena Bazaar</td>\n",
       "      <td>yes</td>\n",
       "      <td>Freitagsmoschee</td>\n",
       "      <td>...</td>\n",
       "      <td>None</td>\n",
       "      <td>None</td>\n",
       "      <td>None</td>\n",
       "      <td>None</td>\n",
       "      <td>None</td>\n",
       "      <td>None</td>\n",
       "      <td>None</td>\n",
       "      <td>None</td>\n",
       "      <td>None</td>\n",
       "      <td>POLYGON ((77.23283 28.65117, 77.23285 28.65099...</td>\n",
       "    </tr>\n",
       "    <tr>\n",
       "      <th>2</th>\n",
       "      <td>relation/5246853</td>\n",
       "      <td>relation/5246853</td>\n",
       "      <td>None</td>\n",
       "      <td>marketplace</td>\n",
       "      <td>None</td>\n",
       "      <td>Wholesale Spice Market</td>\n",
       "      <td>multipolygon</td>\n",
       "      <td>None</td>\n",
       "      <td>yes</td>\n",
       "      <td>None</td>\n",
       "      <td>...</td>\n",
       "      <td>None</td>\n",
       "      <td>None</td>\n",
       "      <td>None</td>\n",
       "      <td>None</td>\n",
       "      <td>None</td>\n",
       "      <td>None</td>\n",
       "      <td>None</td>\n",
       "      <td>None</td>\n",
       "      <td>None</td>\n",
       "      <td>POLYGON ((77.22145 28.65692, 77.22148 28.65638...</td>\n",
       "    </tr>\n",
       "    <tr>\n",
       "      <th>3</th>\n",
       "      <td>relation/5247847</td>\n",
       "      <td>relation/5247847</td>\n",
       "      <td>None</td>\n",
       "      <td>courthouse</td>\n",
       "      <td>None</td>\n",
       "      <td>None</td>\n",
       "      <td>multipolygon</td>\n",
       "      <td>None</td>\n",
       "      <td>yes</td>\n",
       "      <td>None</td>\n",
       "      <td>...</td>\n",
       "      <td>None</td>\n",
       "      <td>None</td>\n",
       "      <td>None</td>\n",
       "      <td>None</td>\n",
       "      <td>None</td>\n",
       "      <td>None</td>\n",
       "      <td>None</td>\n",
       "      <td>None</td>\n",
       "      <td>None</td>\n",
       "      <td>POLYGON ((77.23391 28.61606, 77.23344 28.61535...</td>\n",
       "    </tr>\n",
       "    <tr>\n",
       "      <th>4</th>\n",
       "      <td>relation/5251171</td>\n",
       "      <td>relation/5251171</td>\n",
       "      <td>None</td>\n",
       "      <td>post_office</td>\n",
       "      <td>None</td>\n",
       "      <td>Postal Directorate</td>\n",
       "      <td>multipolygon</td>\n",
       "      <td>Sansad Marg</td>\n",
       "      <td>yes</td>\n",
       "      <td>None</td>\n",
       "      <td>...</td>\n",
       "      <td>None</td>\n",
       "      <td>None</td>\n",
       "      <td>None</td>\n",
       "      <td>None</td>\n",
       "      <td>None</td>\n",
       "      <td>None</td>\n",
       "      <td>None</td>\n",
       "      <td>None</td>\n",
       "      <td>None</td>\n",
       "      <td>POLYGON ((77.21243 28.62242, 77.21304 28.62207...</td>\n",
       "    </tr>\n",
       "  </tbody>\n",
       "</table>\n",
       "<p>5 rows × 131 columns</p>\n",
       "</div>"
      ],
      "text/plain": [
       "                 id               @id admin_level           amenity  \\\n",
       "0  relation/3859752  relation/3859752          10        university   \n",
       "1  relation/3926057  relation/3926057        None  place_of_worship   \n",
       "2  relation/5246853  relation/5246853        None       marketplace   \n",
       "3  relation/5247847  relation/5247847        None        courthouse   \n",
       "4  relation/5251171  relation/5251171        None       post_office   \n",
       "\n",
       "         boundary                             name          type  \\\n",
       "0  administrative  Delhi University (North Campus)      boundary   \n",
       "1            None                      Jama Masjid  multipolygon   \n",
       "2            None           Wholesale Spice Market  multipolygon   \n",
       "3            None                             None  multipolygon   \n",
       "4            None               Postal Directorate  multipolygon   \n",
       "\n",
       "    addr:street building          name:de  ... dance:teaching theatre:type  \\\n",
       "0          None     None             None  ...           None         None   \n",
       "1  Meena Bazaar      yes  Freitagsmoschee  ...           None         None   \n",
       "2          None      yes             None  ...           None         None   \n",
       "3          None      yes             None  ...           None         None   \n",
       "4   Sansad Marg      yes             None  ...           None         None   \n",
       "\n",
       "  operator:type backrest seats branch:type drink:shake addr:subdistrict waste  \\\n",
       "0          None     None  None        None        None             None  None   \n",
       "1          None     None  None        None        None             None  None   \n",
       "2          None     None  None        None        None             None  None   \n",
       "3          None     None  None        None        None             None  None   \n",
       "4          None     None  None        None        None             None  None   \n",
       "\n",
       "                                            geometry  \n",
       "0  POLYGON ((77.22017 28.69272, 77.21966 28.69302...  \n",
       "1  POLYGON ((77.23283 28.65117, 77.23285 28.65099...  \n",
       "2  POLYGON ((77.22145 28.65692, 77.22148 28.65638...  \n",
       "3  POLYGON ((77.23391 28.61606, 77.23344 28.61535...  \n",
       "4  POLYGON ((77.21243 28.62242, 77.21304 28.62207...  \n",
       "\n",
       "[5 rows x 131 columns]"
      ]
     },
     "execution_count": 3,
     "metadata": {},
     "output_type": "execute_result"
    }
   ],
   "source": [
    "data.head()"
   ]
  },
  {
   "cell_type": "code",
   "execution_count": 4,
   "metadata": {},
   "outputs": [
    {
     "data": {
      "text/plain": [
       "array(['university', 'place_of_worship', 'marketplace', 'courthouse',\n",
       "       'post_office', 'parking', 'fairground', 'hospital', 'bus_station',\n",
       "       'college', 'police', 'school', 'grave_yard', 'fire_station',\n",
       "       'fast_food', 'cinema', 'library', 'public_building', 'townhall',\n",
       "       'office', 'toilets', 'fuel', 'theatre', 'social_facility',\n",
       "       'language_school', 'restaurant', 'music_school;dancing_school',\n",
       "       'arts_centre', 'kindergarten', 'boat_rental', 'bank', 'post_box',\n",
       "       'atm', 'memorial', 'veterinary', 'pub', 'cafe', 'club',\n",
       "       'Drinking_Water', 'car_rental', 'bar', 'fountain',\n",
       "       'bicycle_parking', 'baby_hatch', 'community_centre', 'clinic',\n",
       "       'doctors', 'bureau_de_change', 'pharmacy', 'waste_basket',\n",
       "       'drinking_water', 'taxi', 'embassy', 'dentist', 'bicycle_rental',\n",
       "       'food_court', 'vending_machine', 'nightclub', 'waste_disposal',\n",
       "       'ice_cream', 'shelter', 'music_school', 'disused', 'internet_cafe',\n",
       "       'bench', 'charging_station'], dtype=object)"
      ]
     },
     "execution_count": 4,
     "metadata": {},
     "output_type": "execute_result"
    }
   ],
   "source": [
    "# All the amenities in the data\n",
    "data['amenity'].unique()"
   ]
  },
  {
   "cell_type": "code",
   "execution_count": 5,
   "metadata": {
    "scrolled": true
   },
   "outputs": [
    {
     "data": {
      "text/plain": [
       "restaurant                     114\n",
       "toilets                        104\n",
       "place_of_worship                86\n",
       "atm                             80\n",
       "school                          74\n",
       "parking                         68\n",
       "bank                            58\n",
       "fast_food                       52\n",
       "cafe                            48\n",
       "fuel                            38\n",
       "college                         31\n",
       "police                          26\n",
       "hospital                        20\n",
       "bus_station                     18\n",
       "bar                             16\n",
       "drinking_water                  16\n",
       "library                         13\n",
       "theatre                         12\n",
       "bicycle_rental                  11\n",
       "post_office                     11\n",
       "marketplace                     11\n",
       "waste_basket                    11\n",
       "courthouse                      10\n",
       "grave_yard                       8\n",
       "university                       7\n",
       "arts_centre                      7\n",
       "fire_station                     7\n",
       "cinema                           7\n",
       "pharmacy                         6\n",
       "public_building                  6\n",
       "                              ... \n",
       "community_centre                 3\n",
       "bench                            3\n",
       "social_facility                  3\n",
       "food_court                       3\n",
       "ice_cream                        3\n",
       "car_rental                       2\n",
       "nightclub                        2\n",
       "veterinary                       2\n",
       "waste_disposal                   2\n",
       "music_school                     2\n",
       "doctors                          2\n",
       "vending_machine                  2\n",
       "kindergarten                     2\n",
       "shelter                          1\n",
       "embassy                          1\n",
       "dentist                          1\n",
       "Drinking_Water                   1\n",
       "townhall                         1\n",
       "office                           1\n",
       "bicycle_parking                  1\n",
       "language_school                  1\n",
       "internet_cafe                    1\n",
       "boat_rental                      1\n",
       "memorial                         1\n",
       "baby_hatch                       1\n",
       "disused                          1\n",
       "club                             1\n",
       "fairground                       1\n",
       "pub                              1\n",
       "music_school;dancing_school      1\n",
       "Name: amenity, Length: 66, dtype: int64"
      ]
     },
     "execution_count": 5,
     "metadata": {},
     "output_type": "execute_result"
    }
   ],
   "source": [
    "data['amenity'].value_counts()"
   ]
  },
  {
   "cell_type": "markdown",
   "metadata": {},
   "source": [
    "## Clustering of POIs"
   ]
  },
  {
   "cell_type": "code",
   "execution_count": 7,
   "metadata": {},
   "outputs": [],
   "source": [
    "dummy_var=pd.get_dummies(data['amenity'])\n"
   ]
  },
  {
   "cell_type": "code",
   "execution_count": 8,
   "metadata": {},
   "outputs": [],
   "source": [
    "x = dummy_var.reset_index().values\n"
   ]
  },
  {
   "cell_type": "code",
   "execution_count": 9,
   "metadata": {},
   "outputs": [],
   "source": [
    "from kmodes import kmodes\n",
    "import random"
   ]
  },
  {
   "cell_type": "code",
   "execution_count": 11,
   "metadata": {},
   "outputs": [],
   "source": [
    "km = kmodes.KModes(n_clusters=10, init='Cao', n_init=1, verbose=0,random_state=3425)\n",
    "clusters = km.fit_predict(x)\n",
    "dummy_var['clusters'] = clusters"
   ]
  },
  {
   "cell_type": "code",
   "execution_count": 13,
   "metadata": {},
   "outputs": [],
   "source": [
    "kmodes = km.cluster_centroids_\n",
    "data_concat=pd.concat([data['amenity'],dummy_var],axis=1)\n",
    "result_cluster = data_concat.groupby('clusters')"
   ]
  },
  {
   "cell_type": "code",
   "execution_count": 14,
   "metadata": {},
   "outputs": [
    {
     "data": {
      "text/plain": [
       "clusters\n",
       "0    [university, marketplace, courthouse, post_off...\n",
       "1                                            [toilets]\n",
       "2                                   [place_of_worship]\n",
       "3                                                [atm]\n",
       "4                                             [school]\n",
       "5                                            [parking]\n",
       "6                                               [bank]\n",
       "7                                          [fast_food]\n",
       "8                                               [cafe]\n",
       "9                                               [fuel]\n",
       "Name: amenity, dtype: object"
      ]
     },
     "execution_count": 14,
     "metadata": {},
     "output_type": "execute_result"
    }
   ],
   "source": [
    "result_cluster['amenity'].unique()"
   ]
  },
  {
   "cell_type": "code",
   "execution_count": 15,
   "metadata": {},
   "outputs": [],
   "source": [
    "data_concat['geometry']=data['geometry']\n"
   ]
  },
  {
   "cell_type": "code",
   "execution_count": 16,
   "metadata": {},
   "outputs": [],
   "source": [
    "result = data_concat[['amenity','clusters','geometry']]\n"
   ]
  },
  {
   "cell_type": "code",
   "execution_count": 26,
   "metadata": {},
   "outputs": [],
   "source": [
    "result['clusters'] = result['clusters'].replace(to_replace=[0],value='others')\n",
    "result['clusters'] = result['clusters'].replace(to_replace=[1,2],value='basic')\n",
    "result['clusters'] = result['clusters'].replace(to_replace=[3,6],value='banking')\n",
    "result['clusters'] = result['clusters'].replace(to_replace=[4],value='education')\n",
    "result['clusters'] = result['clusters'].replace(to_replace=[5,9],value='transport_service')\n",
    "result['clusters'] = result['clusters'].replace(to_replace=[7,8],value='food')\n"
   ]
  },
  {
   "cell_type": "code",
   "execution_count": 37,
   "metadata": {},
   "outputs": [
    {
     "data": {
      "text/html": [
       "<div>\n",
       "<style scoped>\n",
       "    .dataframe tbody tr th:only-of-type {\n",
       "        vertical-align: middle;\n",
       "    }\n",
       "\n",
       "    .dataframe tbody tr th {\n",
       "        vertical-align: top;\n",
       "    }\n",
       "\n",
       "    .dataframe thead th {\n",
       "        text-align: right;\n",
       "    }\n",
       "</style>\n",
       "<table border=\"1\" class=\"dataframe\">\n",
       "  <thead>\n",
       "    <tr style=\"text-align: right;\">\n",
       "      <th></th>\n",
       "      <th>amenity</th>\n",
       "      <th>clusters</th>\n",
       "      <th>geometry</th>\n",
       "    </tr>\n",
       "  </thead>\n",
       "  <tbody>\n",
       "    <tr>\n",
       "      <th>0</th>\n",
       "      <td>university</td>\n",
       "      <td>others</td>\n",
       "      <td>POLYGON ((77.22017 28.69272, 77.21966 28.69302...</td>\n",
       "    </tr>\n",
       "    <tr>\n",
       "      <th>1</th>\n",
       "      <td>place_of_worship</td>\n",
       "      <td>basic</td>\n",
       "      <td>POLYGON ((77.23283 28.65117, 77.23285 28.65099...</td>\n",
       "    </tr>\n",
       "    <tr>\n",
       "      <th>2</th>\n",
       "      <td>marketplace</td>\n",
       "      <td>others</td>\n",
       "      <td>POLYGON ((77.22145 28.65692, 77.22148 28.65638...</td>\n",
       "    </tr>\n",
       "    <tr>\n",
       "      <th>3</th>\n",
       "      <td>courthouse</td>\n",
       "      <td>others</td>\n",
       "      <td>POLYGON ((77.23391 28.61606, 77.23344 28.61535...</td>\n",
       "    </tr>\n",
       "    <tr>\n",
       "      <th>4</th>\n",
       "      <td>post_office</td>\n",
       "      <td>others</td>\n",
       "      <td>POLYGON ((77.21243 28.62242, 77.21304 28.62207...</td>\n",
       "    </tr>\n",
       "  </tbody>\n",
       "</table>\n",
       "</div>"
      ],
      "text/plain": [
       "            amenity clusters  \\\n",
       "0        university   others   \n",
       "1  place_of_worship    basic   \n",
       "2       marketplace   others   \n",
       "3        courthouse   others   \n",
       "4       post_office   others   \n",
       "\n",
       "                                            geometry  \n",
       "0  POLYGON ((77.22017 28.69272, 77.21966 28.69302...  \n",
       "1  POLYGON ((77.23283 28.65117, 77.23285 28.65099...  \n",
       "2  POLYGON ((77.22145 28.65692, 77.22148 28.65638...  \n",
       "3  POLYGON ((77.23391 28.61606, 77.23344 28.61535...  \n",
       "4  POLYGON ((77.21243 28.62242, 77.21304 28.62207...  "
      ]
     },
     "execution_count": 37,
     "metadata": {},
     "output_type": "execute_result"
    }
   ],
   "source": [
    "result.head()"
   ]
  },
  {
   "cell_type": "code",
   "execution_count": 28,
   "metadata": {},
   "outputs": [
    {
     "data": {
      "text/plain": [
       "<matplotlib.axes._subplots.AxesSubplot at 0x7f3756358be0>"
      ]
     },
     "execution_count": 28,
     "metadata": {},
     "output_type": "execute_result"
    },
    {
     "data": {
      "image/png": "[encoded data removed]",
      "text/plain": [
       "<Figure size 720x504 with 1 Axes>"
      ]
     },
     "metadata": {
      "needs_background": "light"
     },
     "output_type": "display_data"
    }
   ],
   "source": [
    "plt.subplots(1, figsize=(10,7))\n",
    "sns.countplot(x='clusters',data=result)"
   ]
  },
  {
   "cell_type": "code",
   "execution_count": 31,
   "metadata": {},
   "outputs": [],
   "source": [
    "result = gpd.GeoDataFrame(result, geometry='geometry')"
   ]
  },
  {
   "cell_type": "code",
   "execution_count": 32,
   "metadata": {},
   "outputs": [],
   "source": [
    "df = gpd.GeoDataFrame(result)"
   ]
  },
  {
   "cell_type": "code",
   "execution_count": 34,
   "metadata": {
    "scrolled": false
   },
   "outputs": [
    {
     "data": {
      "image/png": "[encoded data removed]",
      "text/plain": [
       "<Figure size 720x720 with 1 Axes>"
      ]
     },
     "metadata": {
      "needs_background": "light"
     },
     "output_type": "display_data"
    }
   ],
   "source": [
    "ax = df.plot(figsize=(10, 10), alpha=0.5, edgecolor='k')\n"
   ]
  },
  {
   "cell_type": "code",
   "execution_count": null,
   "metadata": {},
   "outputs": [],
   "source": [
    "# Export Shapefile\n",
    "import fiona\n",
    "result.to_file('delhi_5km.shp', driver='ESRI Shapefile')"
   ]
  }
 ],
 "metadata": {
  "kernelspec": {
   "display_name": "Python 3",
   "language": "python",
   "name": "python3"
  },
  "language_info": {
   "codemirror_mode": {
    "name": "ipython",
    "version": 3
   },
   "file_extension": ".py",
   "mimetype": "text/x-python",
   "name": "python",
   "nbconvert_exporter": "python",
   "pygments_lexer": "ipython3",
   "version": "3.6.8"
  }
 },
 "nbformat": 4,
 "nbformat_minor": 2
}
